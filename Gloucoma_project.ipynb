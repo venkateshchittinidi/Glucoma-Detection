{
  "nbformat": 4,
  "nbformat_minor": 0,
  "metadata": {
    "colab": {
      "name": "Gloucoma_project_NIT",
      "provenance": [],
      "collapsed_sections": []
    },
    "kernelspec": {
      "name": "python3",
      "display_name": "Python 3"
    }
  },
  "cells": [
    {
      "cell_type": "code",
      "metadata": {
        "id": "n5Fy2zx9Cadm",
        "colab": {
          "base_uri": "https://localhost:8080/",
          "height": 34
        },
        "outputId": "8683f476-4df0-487e-87e1-cea8f27b0f22"
      },
      "source": [
        "# Let's make sure the kaggle.json file is present.\n",
        "!ls -lha kaggle.json"
      ],
      "execution_count": null,
      "outputs": [
        {
          "output_type": "stream",
          "text": [
            "-rw-r--r-- 1 root root 66 Apr 13 06:40 kaggle.json\n"
          ],
          "name": "stdout"
        }
      ]
    },
    {
      "cell_type": "code",
      "metadata": {
        "id": "fq-NW9y-Cumx"
      },
      "source": [
        "# Next, install the Kaggle API client.\n",
        "!pip install -q kaggle"
      ],
      "execution_count": null,
      "outputs": []
    },
    {
      "cell_type": "code",
      "metadata": {
        "id": "IfmTvpajCusO"
      },
      "source": [
        "# The Kaggle API client expects this file to be in ~/.kaggle,\n",
        "# so move it there.\n",
        "!mkdir -p ~/.kaggle\n",
        "!cp kaggle.json ~/.kaggle/\n",
        "\n",
        "# This permissions change avoids a warning on Kaggle tool startup.\n",
        "!chmod 600 ~/.kaggle/kaggle.json"
      ],
      "execution_count": null,
      "outputs": []
    },
    {
      "cell_type": "code",
      "metadata": {
        "id": "O6ddBcGoCu5r",
        "colab": {
          "base_uri": "https://localhost:8080/",
          "height": 67
        },
        "outputId": "01a23569-ead7-4c96-bb7d-a0b9e47383c9"
      },
      "source": [
        "!kaggle datasets download -d himanshuagarwal1998/glaucomadataset"
      ],
      "execution_count": null,
      "outputs": [
        {
          "output_type": "stream",
          "text": [
            "Downloading glaucomadataset.zip to /content\n",
            "100% 2.54G/2.54G [00:28<00:00, 86.8MB/s]\n",
            "\n"
          ],
          "name": "stdout"
        }
      ]
    },
    {
      "cell_type": "code",
      "metadata": {
        "id": "PL6UuhLRIqAT"
      },
      "source": [
        "!unzip -q /content/glaucomadataset.zip"
      ],
      "execution_count": null,
      "outputs": []
    },
    {
      "cell_type": "code",
      "metadata": {
        "id": "7t8khTWjV16b"
      },
      "source": [
        "#!wget http://cecas.clemson.edu/~ahoover/stare/images/all-images.zip"
      ],
      "execution_count": null,
      "outputs": []
    },
    {
      "cell_type": "code",
      "metadata": {
        "id": "7iN7hYLDtYfk",
        "colab": {
          "base_uri": "https://localhost:8080/",
          "height": 34
        },
        "outputId": "daf07be0-dc90-475f-a6e4-a2568c802a44"
      },
      "source": [
        ""
      ],
      "execution_count": null,
      "outputs": [
        {
          "output_type": "execute_result",
          "data": {
            "text/plain": [
              "'/content/teja/all-images.zip'"
            ]
          },
          "metadata": {
            "tags": []
          },
          "execution_count": 7
        }
      ]
    },
    {
      "cell_type": "code",
      "metadata": {
        "id": "vCorzxJBttuM"
      },
      "source": [
        "!unzip -q /content/teja/all-images.zip"
      ],
      "execution_count": null,
      "outputs": []
    },
    {
      "cell_type": "code",
      "metadata": {
        "id": "SFPNY8oo9tre"
      },
      "source": [
        "!mkdir 'Data_set'"
      ],
      "execution_count": null,
      "outputs": []
    },
    {
      "cell_type": "code",
      "metadata": {
        "id": "fIqPFpSja2Oe",
        "colab": {
          "base_uri": "https://localhost:8080/",
          "height": 34
        },
        "outputId": "5ef7099e-5788-4b02-bca3-482ebe36e833"
      },
      "source": [
        "import shutil, sys\n",
        "shutil.move(\"/content/Non Glaucoma\", \"/content/Data_set\")"
      ],
      "execution_count": null,
      "outputs": [
        {
          "output_type": "execute_result",
          "data": {
            "text/plain": [
              "'/content/Data_set/Non Glaucoma'"
            ]
          },
          "metadata": {
            "tags": []
          },
          "execution_count": 10
        }
      ]
    },
    {
      "cell_type": "code",
      "metadata": {
        "id": "h4rcWqciAGey",
        "colab": {
          "base_uri": "https://localhost:8080/",
          "height": 34
        },
        "outputId": "968870dd-e9b1-4b04-e57d-3642db94f6e0"
      },
      "source": [
        "shutil.move(\"/content/Glaucoma\", \"/content/Data_set\")"
      ],
      "execution_count": null,
      "outputs": [
        {
          "output_type": "execute_result",
          "data": {
            "text/plain": [
              "'/content/Data_set/Glaucoma'"
            ]
          },
          "metadata": {
            "tags": []
          },
          "execution_count": 11
        }
      ]
    },
    {
      "cell_type": "code",
      "metadata": {
        "id": "6uInZfkzm7f6"
      },
      "source": [
        "FAST_RUN = False\n",
        "IMAGE_WIDTH=128\n",
        "IMAGE_HEIGHT=128\n",
        "IMAGE_SIZE=(IMAGE_WIDTH, IMAGE_HEIGHT)\n",
        "IMAGE_CHANNELS=3"
      ],
      "execution_count": null,
      "outputs": []
    },
    {
      "cell_type": "code",
      "metadata": {
        "id": "HsSydybym7lS",
        "colab": {
          "base_uri": "https://localhost:8080/",
          "height": 34
        },
        "outputId": "8dbc76bd-c4b6-441b-9749-b9ae1f2c3eee"
      },
      "source": [
        "import tensorflow as tf\n",
        "import keras\n",
        "from keras.models import Sequential\n",
        "from keras.layers import Conv2D\n",
        "from keras.layers import MaxPooling2D\n",
        "from keras.layers import Flatten\n",
        "from keras.layers import Dense\n",
        "import warnings\n",
        "warnings.filterwarnings('ignore')"
      ],
      "execution_count": null,
      "outputs": [
        {
          "output_type": "stream",
          "text": [
            "Using TensorFlow backend.\n"
          ],
          "name": "stderr"
        }
      ]
    },
    {
      "cell_type": "code",
      "metadata": {
        "id": "0Cv2xriAm7eI"
      },
      "source": [
        "classifier = Sequential()\n",
        "#frist hidden layer\n",
        "\n",
        "classifier.add(Conv2D(32, (3, 3), input_shape = (64, 64, 3), activation = 'relu'))\n",
        "classifier.add(MaxPooling2D(pool_size = (2, 2)))"
      ],
      "execution_count": null,
      "outputs": []
    },
    {
      "cell_type": "code",
      "metadata": {
        "id": "btFiQewXm7bo",
        "colab": {
          "base_uri": "https://localhost:8080/",
          "height": 386
        },
        "outputId": "d93a46a5-b0bd-4f7c-8b07-aaeb5ca4418b"
      },
      "source": [
        "#second hidden layer\n",
        "\n",
        "classifier.add(Conv2D(32, (3, 3), activation = 'relu'))\n",
        "classifier.add(MaxPooling2D(pool_size = (2, 2)))\n",
        "#last layer\n",
        "\n",
        "classifier.add(Flatten())\n",
        "\n",
        "classifier.add(Dense(activation = 'relu',units=128))\n",
        "classifier.add(Dense(activation = 'sigmoid',units=1))\n",
        "\n",
        "classifier.compile(optimizer = 'adam', loss = 'binary_crossentropy', metrics = ['accuracy'])\n",
        "\n",
        "classifier.summary()"
      ],
      "execution_count": null,
      "outputs": [
        {
          "output_type": "stream",
          "text": [
            "Model: \"sequential_1\"\n",
            "_________________________________________________________________\n",
            "Layer (type)                 Output Shape              Param #   \n",
            "=================================================================\n",
            "conv2d_1 (Conv2D)            (None, 62, 62, 32)        896       \n",
            "_________________________________________________________________\n",
            "max_pooling2d_1 (MaxPooling2 (None, 31, 31, 32)        0         \n",
            "_________________________________________________________________\n",
            "conv2d_2 (Conv2D)            (None, 29, 29, 32)        9248      \n",
            "_________________________________________________________________\n",
            "max_pooling2d_2 (MaxPooling2 (None, 14, 14, 32)        0         \n",
            "_________________________________________________________________\n",
            "flatten_1 (Flatten)          (None, 6272)              0         \n",
            "_________________________________________________________________\n",
            "dense_1 (Dense)              (None, 128)               802944    \n",
            "_________________________________________________________________\n",
            "dense_2 (Dense)              (None, 1)                 129       \n",
            "=================================================================\n",
            "Total params: 813,217\n",
            "Trainable params: 813,217\n",
            "Non-trainable params: 0\n",
            "_________________________________________________________________\n"
          ],
          "name": "stdout"
        }
      ]
    },
    {
      "cell_type": "code",
      "metadata": {
        "id": "Vyt7OBStm7ZT"
      },
      "source": [
        "from keras.preprocessing.image import ImageDataGenerator\n",
        "\n",
        "train_datagen = ImageDataGenerator(rescale = 1./255,\n",
        "                                   shear_range = 0.2,\n",
        "                                   zoom_range = 0.2,\n",
        "                                   horizontal_flip = True)\n",
        "\n",
        "test_datagen = ImageDataGenerator(rescale = 1./255)\n"
      ],
      "execution_count": null,
      "outputs": []
    },
    {
      "cell_type": "code",
      "metadata": {
        "id": "BzF-T_hNm7St",
        "colab": {
          "base_uri": "https://localhost:8080/",
          "height": 34
        },
        "outputId": "dbf17fd7-6d1f-4c80-ad39-e1114f40b2fe"
      },
      "source": [
        "import os \n",
        "os.getcwd()\n",
        "#os.chdir('C:/Users/hp/Desktop/code/Brain_tumor')\n",
        "print(os.getcwd())"
      ],
      "execution_count": null,
      "outputs": [
        {
          "output_type": "stream",
          "text": [
            "/content\n"
          ],
          "name": "stdout"
        }
      ]
    },
    {
      "cell_type": "code",
      "metadata": {
        "id": "oshNCztgnYMQ",
        "colab": {
          "base_uri": "https://localhost:8080/",
          "height": 50
        },
        "outputId": "575d66a0-bc7e-4298-f871-7d4a11381d42"
      },
      "source": [
        "training_set = train_datagen.flow_from_directory('/content/Data_set',\n",
        "                                                 target_size = (64, 64),\n",
        "                                                 batch_size = 32,\n",
        "                                                 class_mode = 'binary')\n",
        "\n",
        "test_set = test_datagen.flow_from_directory('/content/Data_set',\n",
        "                                            target_size = (64, 64),\n",
        "                                            batch_size = 32,\n",
        "                                            class_mode = 'binary')\n"
      ],
      "execution_count": null,
      "outputs": [
        {
          "output_type": "stream",
          "text": [
            "Found 1022 images belonging to 2 classes.\n",
            "Found 1022 images belonging to 2 classes.\n"
          ],
          "name": "stdout"
        }
      ]
    },
    {
      "cell_type": "code",
      "metadata": {
        "id": "UgeXAcLNnmXZ",
        "colab": {
          "base_uri": "https://localhost:8080/",
          "height": 1000
        },
        "outputId": "6657d905-30fb-4938-8d54-9f09d32a7954"
      },
      "source": [
        "classifier.fit_generator(training_set, steps_per_epoch=1, epochs=100, verbose=1, callbacks=None, validation_data=test_set, validation_steps=1, class_weight=None, max_queue_size=10, workers=1, use_multiprocessing=False, shuffle=True, initial_epoch=0)"
      ],
      "execution_count": null,
      "outputs": [
        {
          "output_type": "stream",
          "text": [
            "Epoch 1/100\n",
            "1/1 [==============================] - 5s 5s/step - loss: 0.6926 - accuracy: 0.5312 - val_loss: 0.6057 - val_accuracy: 0.9062\n",
            "Epoch 2/100\n",
            "1/1 [==============================] - 4s 4s/step - loss: 0.6263 - accuracy: 0.8125 - val_loss: 0.6916 - val_accuracy: 0.4688\n",
            "Epoch 3/100\n",
            "1/1 [==============================] - 4s 4s/step - loss: 0.6216 - accuracy: 0.6875 - val_loss: 0.4525 - val_accuracy: 0.8750\n",
            "Epoch 4/100\n",
            "1/1 [==============================] - 3s 3s/step - loss: 0.5126 - accuracy: 0.7812 - val_loss: 0.4355 - val_accuracy: 0.8750\n",
            "Epoch 5/100\n",
            "1/1 [==============================] - 5s 5s/step - loss: 0.4544 - accuracy: 0.8750 - val_loss: 0.3167 - val_accuracy: 0.9062\n",
            "Epoch 6/100\n",
            "1/1 [==============================] - 4s 4s/step - loss: 0.2859 - accuracy: 0.9375 - val_loss: 0.4155 - val_accuracy: 0.8750\n",
            "Epoch 7/100\n",
            "1/1 [==============================] - 4s 4s/step - loss: 0.3761 - accuracy: 0.8438 - val_loss: 0.2539 - val_accuracy: 0.9062\n",
            "Epoch 8/100\n",
            "1/1 [==============================] - 5s 5s/step - loss: 0.3645 - accuracy: 0.8750 - val_loss: 0.2970 - val_accuracy: 0.8750\n",
            "Epoch 9/100\n",
            "1/1 [==============================] - 4s 4s/step - loss: 0.3831 - accuracy: 0.8750 - val_loss: 0.2967 - val_accuracy: 0.9375\n",
            "Epoch 10/100\n",
            "1/1 [==============================] - 4s 4s/step - loss: 0.4568 - accuracy: 0.8750 - val_loss: 0.5492 - val_accuracy: 0.8438\n",
            "Epoch 11/100\n",
            "1/1 [==============================] - 4s 4s/step - loss: 0.6877 - accuracy: 0.8750 - val_loss: 0.7170 - val_accuracy: 0.7812\n",
            "Epoch 12/100\n",
            "1/1 [==============================] - 4s 4s/step - loss: 0.8307 - accuracy: 0.7812 - val_loss: 0.4063 - val_accuracy: 0.8750\n",
            "Epoch 13/100\n",
            "1/1 [==============================] - 5s 5s/step - loss: 0.4191 - accuracy: 0.8438 - val_loss: 0.5007 - val_accuracy: 0.8750\n",
            "Epoch 14/100\n",
            "1/1 [==============================] - 5s 5s/step - loss: 0.4901 - accuracy: 0.7812 - val_loss: 0.5006 - val_accuracy: 0.8438\n",
            "Epoch 15/100\n",
            "1/1 [==============================] - 4s 4s/step - loss: 0.6710 - accuracy: 0.6875 - val_loss: 0.3628 - val_accuracy: 0.8750\n",
            "Epoch 16/100\n",
            "1/1 [==============================] - 4s 4s/step - loss: 0.3853 - accuracy: 0.7500 - val_loss: 0.3872 - val_accuracy: 0.9062\n",
            "Epoch 17/100\n",
            "1/1 [==============================] - 4s 4s/step - loss: 0.3275 - accuracy: 0.9062 - val_loss: 0.4582 - val_accuracy: 0.8125\n",
            "Epoch 18/100\n",
            "1/1 [==============================] - 5s 5s/step - loss: 0.4877 - accuracy: 0.8438 - val_loss: 0.3089 - val_accuracy: 0.9375\n",
            "Epoch 19/100\n",
            "1/1 [==============================] - 4s 4s/step - loss: 0.3840 - accuracy: 0.8438 - val_loss: 0.4191 - val_accuracy: 0.9062\n",
            "Epoch 20/100\n",
            "1/1 [==============================] - 3s 3s/step - loss: 0.4593 - accuracy: 0.8667 - val_loss: 0.4208 - val_accuracy: 0.8750\n",
            "Epoch 21/100\n",
            "1/1 [==============================] - 3s 3s/step - loss: 0.3582 - accuracy: 0.9375 - val_loss: 0.4598 - val_accuracy: 0.8125\n",
            "Epoch 22/100\n",
            "1/1 [==============================] - 4s 4s/step - loss: 0.4854 - accuracy: 0.8438 - val_loss: 0.3159 - val_accuracy: 0.9062\n",
            "Epoch 23/100\n",
            "1/1 [==============================] - 4s 4s/step - loss: 0.4703 - accuracy: 0.8438 - val_loss: 0.2325 - val_accuracy: 0.9375\n",
            "Epoch 24/100\n",
            "1/1 [==============================] - 5s 5s/step - loss: 0.4200 - accuracy: 0.8750 - val_loss: 0.3927 - val_accuracy: 0.8750\n",
            "Epoch 25/100\n",
            "1/1 [==============================] - 4s 4s/step - loss: 0.4610 - accuracy: 0.8125 - val_loss: 0.2825 - val_accuracy: 0.9062\n",
            "Epoch 26/100\n",
            "1/1 [==============================] - 4s 4s/step - loss: 0.3421 - accuracy: 0.9062 - val_loss: 0.4047 - val_accuracy: 0.8438\n",
            "Epoch 27/100\n",
            "1/1 [==============================] - 4s 4s/step - loss: 0.3838 - accuracy: 0.8125 - val_loss: 0.3378 - val_accuracy: 0.8750\n",
            "Epoch 28/100\n",
            "1/1 [==============================] - 4s 4s/step - loss: 0.3603 - accuracy: 0.8438 - val_loss: 0.2706 - val_accuracy: 0.9062\n",
            "Epoch 29/100\n",
            "1/1 [==============================] - 4s 4s/step - loss: 0.4133 - accuracy: 0.9062 - val_loss: 0.1894 - val_accuracy: 0.9375\n",
            "Epoch 30/100\n",
            "1/1 [==============================] - 3s 3s/step - loss: 0.3031 - accuracy: 0.8750 - val_loss: 0.4060 - val_accuracy: 0.8438\n",
            "Epoch 31/100\n",
            "1/1 [==============================] - 4s 4s/step - loss: 0.2498 - accuracy: 0.9375 - val_loss: 0.3303 - val_accuracy: 0.8750\n",
            "Epoch 32/100\n",
            "1/1 [==============================] - 2s 2s/step - loss: 0.6274 - accuracy: 0.7188 - val_loss: 0.2319 - val_accuracy: 0.8667\n",
            "Epoch 33/100\n",
            "1/1 [==============================] - 4s 4s/step - loss: 0.3217 - accuracy: 0.9062 - val_loss: 0.3531 - val_accuracy: 0.8750\n",
            "Epoch 34/100\n",
            "1/1 [==============================] - 4s 4s/step - loss: 0.5344 - accuracy: 0.7812 - val_loss: 0.3848 - val_accuracy: 0.9375\n",
            "Epoch 35/100\n",
            "1/1 [==============================] - 5s 5s/step - loss: 0.2430 - accuracy: 0.9062 - val_loss: 0.2486 - val_accuracy: 0.9688\n",
            "Epoch 36/100\n",
            "1/1 [==============================] - 4s 4s/step - loss: 0.3350 - accuracy: 0.8750 - val_loss: 0.2996 - val_accuracy: 0.8438\n",
            "Epoch 37/100\n",
            "1/1 [==============================] - 3s 3s/step - loss: 0.2303 - accuracy: 0.9688 - val_loss: 0.1722 - val_accuracy: 0.9375\n",
            "Epoch 38/100\n",
            "1/1 [==============================] - 5s 5s/step - loss: 0.1731 - accuracy: 0.9375 - val_loss: 0.4242 - val_accuracy: 0.8438\n",
            "Epoch 39/100\n",
            "1/1 [==============================] - 3s 3s/step - loss: 0.3280 - accuracy: 0.9062 - val_loss: 0.3906 - val_accuracy: 0.8750\n",
            "Epoch 40/100\n",
            "1/1 [==============================] - 5s 5s/step - loss: 0.3390 - accuracy: 0.8750 - val_loss: 0.5345 - val_accuracy: 0.7500\n",
            "Epoch 41/100\n",
            "1/1 [==============================] - 4s 4s/step - loss: 0.3089 - accuracy: 0.9062 - val_loss: 0.4814 - val_accuracy: 0.8125\n",
            "Epoch 42/100\n",
            "1/1 [==============================] - 4s 4s/step - loss: 0.1242 - accuracy: 0.9375 - val_loss: 0.6669 - val_accuracy: 0.7812\n",
            "Epoch 43/100\n",
            "1/1 [==============================] - 4s 4s/step - loss: 0.5114 - accuracy: 0.7188 - val_loss: 0.4649 - val_accuracy: 0.8438\n",
            "Epoch 44/100\n",
            "1/1 [==============================] - 4s 4s/step - loss: 0.2586 - accuracy: 0.9000 - val_loss: 0.2369 - val_accuracy: 0.9062\n",
            "Epoch 45/100\n",
            "1/1 [==============================] - 2s 2s/step - loss: 0.2707 - accuracy: 0.9062 - val_loss: 0.2943 - val_accuracy: 0.8750\n",
            "Epoch 46/100\n",
            "1/1 [==============================] - 3s 3s/step - loss: 0.4537 - accuracy: 0.8438 - val_loss: 0.2289 - val_accuracy: 0.9062\n",
            "Epoch 47/100\n",
            "1/1 [==============================] - 4s 4s/step - loss: 0.1596 - accuracy: 0.9375 - val_loss: 0.2443 - val_accuracy: 0.8750\n",
            "Epoch 48/100\n",
            "1/1 [==============================] - 5s 5s/step - loss: 0.4314 - accuracy: 0.8125 - val_loss: 0.2724 - val_accuracy: 0.9062\n",
            "Epoch 49/100\n",
            "1/1 [==============================] - 3s 3s/step - loss: 0.4184 - accuracy: 0.7812 - val_loss: 0.2083 - val_accuracy: 0.9688\n",
            "Epoch 50/100\n",
            "1/1 [==============================] - 3s 3s/step - loss: 0.3882 - accuracy: 0.8438 - val_loss: 0.1908 - val_accuracy: 1.0000\n",
            "Epoch 51/100\n",
            "1/1 [==============================] - 3s 3s/step - loss: 0.4656 - accuracy: 0.8125 - val_loss: 0.3294 - val_accuracy: 0.8125\n",
            "Epoch 52/100\n",
            "1/1 [==============================] - 5s 5s/step - loss: 0.2783 - accuracy: 0.9062 - val_loss: 0.1280 - val_accuracy: 1.0000\n",
            "Epoch 53/100\n",
            "1/1 [==============================] - 4s 4s/step - loss: 0.2122 - accuracy: 0.9688 - val_loss: 0.3127 - val_accuracy: 0.8750\n",
            "Epoch 54/100\n",
            "1/1 [==============================] - 4s 4s/step - loss: 0.3668 - accuracy: 0.8125 - val_loss: 0.1959 - val_accuracy: 0.9375\n",
            "Epoch 55/100\n",
            "1/1 [==============================] - 4s 4s/step - loss: 0.3305 - accuracy: 0.8750 - val_loss: 0.2194 - val_accuracy: 0.9062\n",
            "Epoch 56/100\n",
            "1/1 [==============================] - 4s 4s/step - loss: 0.3496 - accuracy: 0.8750 - val_loss: 0.1503 - val_accuracy: 0.9375\n",
            "Epoch 57/100\n",
            "1/1 [==============================] - 4s 4s/step - loss: 0.4101 - accuracy: 0.8438 - val_loss: 0.2654 - val_accuracy: 0.9062\n",
            "Epoch 58/100\n",
            "1/1 [==============================] - 5s 5s/step - loss: 0.4710 - accuracy: 0.8438 - val_loss: 0.3152 - val_accuracy: 0.8750\n",
            "Epoch 59/100\n",
            "1/1 [==============================] - 5s 5s/step - loss: 0.3218 - accuracy: 0.9062 - val_loss: 0.2944 - val_accuracy: 0.8750\n",
            "Epoch 60/100\n",
            "1/1 [==============================] - 4s 4s/step - loss: 0.3228 - accuracy: 0.8750 - val_loss: 0.2285 - val_accuracy: 0.9062\n",
            "Epoch 61/100\n",
            "1/1 [==============================] - 4s 4s/step - loss: 0.2392 - accuracy: 0.9062 - val_loss: 0.1426 - val_accuracy: 0.9688\n",
            "Epoch 62/100\n",
            "1/1 [==============================] - 5s 5s/step - loss: 0.2866 - accuracy: 0.9062 - val_loss: 0.2256 - val_accuracy: 0.9375\n",
            "Epoch 63/100\n",
            "1/1 [==============================] - 4s 4s/step - loss: 0.4453 - accuracy: 0.7188 - val_loss: 0.2828 - val_accuracy: 0.8438\n",
            "Epoch 64/100\n",
            "1/1 [==============================] - 3s 3s/step - loss: 0.2758 - accuracy: 0.9375 - val_loss: 0.2334 - val_accuracy: 0.9333\n",
            "Epoch 65/100\n",
            "1/1 [==============================] - 4s 4s/step - loss: 0.2650 - accuracy: 0.9375 - val_loss: 0.1815 - val_accuracy: 0.9688\n",
            "Epoch 66/100\n",
            "1/1 [==============================] - 4s 4s/step - loss: 0.3119 - accuracy: 0.9062 - val_loss: 0.2994 - val_accuracy: 0.8750\n",
            "Epoch 67/100\n",
            "1/1 [==============================] - 4s 4s/step - loss: 0.2707 - accuracy: 0.9375 - val_loss: 0.2125 - val_accuracy: 0.9375\n",
            "Epoch 68/100\n",
            "1/1 [==============================] - 4s 4s/step - loss: 0.2742 - accuracy: 0.9062 - val_loss: 0.1714 - val_accuracy: 0.9688\n",
            "Epoch 69/100\n",
            "1/1 [==============================] - 4s 4s/step - loss: 0.2332 - accuracy: 0.9062 - val_loss: 0.2401 - val_accuracy: 0.8750\n",
            "Epoch 70/100\n",
            "1/1 [==============================] - 4s 4s/step - loss: 0.1891 - accuracy: 0.9375 - val_loss: 0.1438 - val_accuracy: 0.9375\n",
            "Epoch 71/100\n",
            "1/1 [==============================] - 5s 5s/step - loss: 0.5661 - accuracy: 0.8125 - val_loss: 0.3023 - val_accuracy: 0.8750\n",
            "Epoch 72/100\n",
            "1/1 [==============================] - 4s 4s/step - loss: 0.2364 - accuracy: 0.9062 - val_loss: 0.2098 - val_accuracy: 0.9375\n",
            "Epoch 73/100\n",
            "1/1 [==============================] - 3s 3s/step - loss: 0.1985 - accuracy: 0.9667 - val_loss: 0.1354 - val_accuracy: 0.9375\n",
            "Epoch 74/100\n",
            "1/1 [==============================] - 4s 4s/step - loss: 0.1768 - accuracy: 0.9688 - val_loss: 0.3201 - val_accuracy: 0.8750\n",
            "Epoch 75/100\n",
            "1/1 [==============================] - 4s 4s/step - loss: 0.0955 - accuracy: 0.9688 - val_loss: 0.1656 - val_accuracy: 0.9062\n",
            "Epoch 76/100\n",
            "1/1 [==============================] - 4s 4s/step - loss: 0.2342 - accuracy: 0.8750 - val_loss: 0.3527 - val_accuracy: 0.7812\n",
            "Epoch 77/100\n",
            "1/1 [==============================] - 2s 2s/step - loss: 0.1581 - accuracy: 0.9375 - val_loss: 0.0668 - val_accuracy: 1.0000\n",
            "Epoch 78/100\n",
            "1/1 [==============================] - 4s 4s/step - loss: 0.2563 - accuracy: 0.9375 - val_loss: 0.2031 - val_accuracy: 0.9062\n",
            "Epoch 79/100\n",
            "1/1 [==============================] - 4s 4s/step - loss: 0.2155 - accuracy: 0.8750 - val_loss: 0.1904 - val_accuracy: 0.9375\n",
            "Epoch 80/100\n",
            "1/1 [==============================] - 4s 4s/step - loss: 0.2416 - accuracy: 0.9062 - val_loss: 0.3103 - val_accuracy: 0.8750\n",
            "Epoch 81/100\n",
            "1/1 [==============================] - 4s 4s/step - loss: 0.1776 - accuracy: 0.9375 - val_loss: 0.0797 - val_accuracy: 1.0000\n",
            "Epoch 82/100\n",
            "1/1 [==============================] - 4s 4s/step - loss: 0.1973 - accuracy: 0.9688 - val_loss: 0.1749 - val_accuracy: 0.9062\n",
            "Epoch 83/100\n",
            "1/1 [==============================] - 4s 4s/step - loss: 0.2625 - accuracy: 0.8438 - val_loss: 0.1980 - val_accuracy: 0.9688\n",
            "Epoch 84/100\n",
            "1/1 [==============================] - 4s 4s/step - loss: 0.1587 - accuracy: 0.9688 - val_loss: 0.2322 - val_accuracy: 0.9062\n",
            "Epoch 85/100\n",
            "1/1 [==============================] - 4s 4s/step - loss: 0.3439 - accuracy: 0.8750 - val_loss: 0.1429 - val_accuracy: 0.9375\n",
            "Epoch 86/100\n",
            "1/1 [==============================] - 4s 4s/step - loss: 0.3885 - accuracy: 0.8125 - val_loss: 0.1227 - val_accuracy: 0.9375\n",
            "Epoch 87/100\n",
            "1/1 [==============================] - 4s 4s/step - loss: 0.1091 - accuracy: 1.0000 - val_loss: 0.1999 - val_accuracy: 0.9062\n",
            "Epoch 88/100\n",
            "1/1 [==============================] - 4s 4s/step - loss: 0.1975 - accuracy: 0.9375 - val_loss: 0.1348 - val_accuracy: 0.9688\n",
            "Epoch 89/100\n",
            "1/1 [==============================] - 4s 4s/step - loss: 0.1761 - accuracy: 0.9375 - val_loss: 0.2052 - val_accuracy: 0.9062\n",
            "Epoch 90/100\n",
            "1/1 [==============================] - 3s 3s/step - loss: 0.1917 - accuracy: 0.9688 - val_loss: 0.1419 - val_accuracy: 0.9688\n",
            "Epoch 91/100\n",
            "1/1 [==============================] - 3s 3s/step - loss: 0.1389 - accuracy: 0.9688 - val_loss: 0.1586 - val_accuracy: 0.9375\n",
            "Epoch 92/100\n",
            "1/1 [==============================] - 4s 4s/step - loss: 0.2076 - accuracy: 0.9062 - val_loss: 0.2525 - val_accuracy: 0.8750\n",
            "Epoch 93/100\n",
            "1/1 [==============================] - 4s 4s/step - loss: 0.1582 - accuracy: 0.9688 - val_loss: 0.1735 - val_accuracy: 0.9375\n",
            "Epoch 94/100\n",
            "1/1 [==============================] - 5s 5s/step - loss: 0.1659 - accuracy: 0.9688 - val_loss: 0.2241 - val_accuracy: 0.9062\n",
            "Epoch 95/100\n",
            "1/1 [==============================] - 4s 4s/step - loss: 0.1571 - accuracy: 0.9688 - val_loss: 0.2194 - val_accuracy: 0.8750\n",
            "Epoch 96/100\n",
            "1/1 [==============================] - 4s 4s/step - loss: 0.3205 - accuracy: 0.8750 - val_loss: 0.2956 - val_accuracy: 0.8333\n",
            "Epoch 97/100\n",
            "1/1 [==============================] - 4s 4s/step - loss: 0.2863 - accuracy: 0.9062 - val_loss: 0.2014 - val_accuracy: 0.8750\n",
            "Epoch 98/100\n",
            "1/1 [==============================] - 4s 4s/step - loss: 0.1126 - accuracy: 0.9688 - val_loss: 0.3057 - val_accuracy: 0.9062\n",
            "Epoch 99/100\n",
            "1/1 [==============================] - 4s 4s/step - loss: 0.2290 - accuracy: 0.9688 - val_loss: 0.1013 - val_accuracy: 0.9688\n",
            "Epoch 100/100\n",
            "1/1 [==============================] - 4s 4s/step - loss: 0.1846 - accuracy: 0.9375 - val_loss: 0.0942 - val_accuracy: 0.9375\n"
          ],
          "name": "stdout"
        },
        {
          "output_type": "execute_result",
          "data": {
            "text/plain": [
              "<keras.callbacks.callbacks.History at 0x7fb57ab87b00>"
            ]
          },
          "metadata": {
            "tags": []
          },
          "execution_count": 18
        }
      ]
    },
    {
      "cell_type": "code",
      "metadata": {
        "id": "cpFq_VJpHEsV"
      },
      "source": [
        "# Save the model\n",
        "classifier.save('path_to_my_model.h5')\n",
        "\n",
        "# Recreate the exact same model purely from the file\n",
        "new_model = keras.models.load_model('path_to_my_model.h5')"
      ],
      "execution_count": null,
      "outputs": []
    },
    {
      "cell_type": "code",
      "metadata": {
        "id": "0WSklKS4uT_y",
        "colab": {
          "base_uri": "https://localhost:8080/",
          "height": 81
        },
        "outputId": "8a5fb7cf-0972-4b60-c869-007710f70f3b"
      },
      "source": [
        "import numpy as np\n",
        "from keras.preprocessing import image\n",
        "test_image = image.load_img('/content/Data_set/Non Glaucoma/40c24aded50c.png', target_size = (64, 64))\n",
        "test_image"
      ],
      "execution_count": null,
      "outputs": [
        {
          "output_type": "execute_result",
          "data": {
            "image/png": "[encoded data removed]",
            "text/plain": [
              "<PIL.Image.Image image mode=RGB size=64x64 at 0x7FB574586F28>"
            ]
          },
          "metadata": {
            "tags": []
          },
          "execution_count": 20
        }
      ]
    },
    {
      "cell_type": "code",
      "metadata": {
        "id": "53wdXuggnqr6",
        "colab": {
          "base_uri": "https://localhost:8080/",
          "height": 840
        },
        "outputId": "2cf74d5b-f9b1-4830-c8c7-41cf0c8303c6"
      },
      "source": [
        "test_image = image.img_to_array(test_image)\n",
        "\n",
        "test_image = np.expand_dims(test_image, axis = 0)\n",
        "test_image"
      ],
      "execution_count": null,
      "outputs": [
        {
          "output_type": "execute_result",
          "data": {
            "text/plain": [
              "array([[[[1., 0., 0.],\n",
              "         [2., 1., 0.],\n",
              "         [2., 0., 1.],\n",
              "         ...,\n",
              "         [1., 1., 1.],\n",
              "         [2., 1., 0.],\n",
              "         [1., 0., 0.]],\n",
              "\n",
              "        [[1., 1., 1.],\n",
              "         [0., 0., 0.],\n",
              "         [1., 1., 1.],\n",
              "         ...,\n",
              "         [1., 1., 1.],\n",
              "         [1., 1., 1.],\n",
              "         [0., 0., 0.]],\n",
              "\n",
              "        [[1., 1., 1.],\n",
              "         [1., 1., 1.],\n",
              "         [1., 1., 1.],\n",
              "         ...,\n",
              "         [1., 1., 1.],\n",
              "         [1., 1., 1.],\n",
              "         [1., 1., 1.]],\n",
              "\n",
              "        ...,\n",
              "\n",
              "        [[0., 0., 0.],\n",
              "         [0., 0., 0.],\n",
              "         [0., 0., 0.],\n",
              "         ...,\n",
              "         [0., 0., 0.],\n",
              "         [0., 0., 0.],\n",
              "         [1., 1., 1.]],\n",
              "\n",
              "        [[0., 0., 0.],\n",
              "         [1., 1., 1.],\n",
              "         [0., 0., 0.],\n",
              "         ...,\n",
              "         [0., 0., 0.],\n",
              "         [0., 0., 0.],\n",
              "         [0., 0., 0.]],\n",
              "\n",
              "        [[0., 0., 0.],\n",
              "         [0., 0., 0.],\n",
              "         [1., 1., 1.],\n",
              "         ...,\n",
              "         [0., 0., 0.],\n",
              "         [0., 0., 4.],\n",
              "         [0., 0., 0.]]]], dtype=float32)"
            ]
          },
          "metadata": {
            "tags": []
          },
          "execution_count": 21
        }
      ]
    },
    {
      "cell_type": "code",
      "metadata": {
        "id": "W-AT4NIpuh6v",
        "colab": {
          "base_uri": "https://localhost:8080/",
          "height": 34
        },
        "outputId": "e4c62631-beb2-495b-8949-add0f0c45171"
      },
      "source": [
        "result = new_model.predict(test_image)\n",
        "result"
      ],
      "execution_count": null,
      "outputs": [
        {
          "output_type": "execute_result",
          "data": {
            "text/plain": [
              "array([[1.]], dtype=float32)"
            ]
          },
          "metadata": {
            "tags": []
          },
          "execution_count": 22
        }
      ]
    },
    {
      "cell_type": "code",
      "metadata": {
        "id": "Lv5xFQ_AulM5",
        "colab": {
          "base_uri": "https://localhost:8080/",
          "height": 34
        },
        "outputId": "de134726-238d-4d13-f63e-d5ad189e413f"
      },
      "source": [
        "test = training_set.class_indices\n",
        "test"
      ],
      "execution_count": null,
      "outputs": [
        {
          "output_type": "execute_result",
          "data": {
            "text/plain": [
              "{'Glaucoma': 0, 'Non Glaucoma': 1}"
            ]
          },
          "metadata": {
            "tags": []
          },
          "execution_count": 23
        }
      ]
    },
    {
      "cell_type": "code",
      "metadata": {
        "id": "AIpadC1R5mQr",
        "colab": {
          "base_uri": "https://localhost:8080/",
          "height": 34
        },
        "outputId": "3726403e-4e4e-492a-cfe3-c2fad9d7f217"
      },
      "source": [
        "for i,j in test.items():\n",
        "  if result[0] ==j:\n",
        "    print('Predected Image is Glaucoma')\n",
        "  else:\n",
        "    print('Predected Image is Non Glaucoma')\n",
        "    break"
      ],
      "execution_count": null,
      "outputs": [
        {
          "output_type": "stream",
          "text": [
            "Predected Image is Non Glaucoma\n"
          ],
          "name": "stdout"
        }
      ]
    }
  ]
}